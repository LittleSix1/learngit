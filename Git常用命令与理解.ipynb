{
 "cells": [
  {
   "cell_type": "markdown",
   "metadata": {},
   "source": [
    "### Git常用命令与理解\n",
    "- [文章参考廖雪峰的博客](https://www.liaoxuefeng.com/wiki/0013739516305929606dd18361248578c67b8067c8c017b000)"
   ]
  },
  {
   "cell_type": "markdown",
   "metadata": {},
   "source": [
    "![title](Git原理图/git版本库原理图.png)"
   ]
  },
  {
   "cell_type": "raw",
   "metadata": {},
   "source": [
    "将文件添加到Git版本库的时候，分两步：\n",
    "1 git add  把文件添加进去，实际就是把文件修改添加到暂存区\n",
    "2 git commit 把暂存区的所有内容提交到当前分支\n",
    "即需要提交的文件修改通通放到暂存区，然后，一次性提交暂存区的所有修改到分支上\n",
    "为什么需要分两步呢？先add再commit,  因为commit可以一次提交很多文件，所以你可以多次add."
   ]
  },
  {
   "cell_type": "markdown",
   "metadata": {},
   "source": [
    "![title](Git原理图/修改文件后add.png)\n",
    "![title](Git原理图/提交文件后commit.png)"
   ]
  },
  {
   "cell_type": "markdown",
   "metadata": {},
   "source": [
    "#### 下面介绍如何使用一个Git，及常用命令"
   ]
  },
  {
   "cell_type": "code",
   "execution_count": null,
   "metadata": {},
   "outputs": [],
   "source": [
    "git init   初始化一个Git仓库\n",
    "添加文件到Git仓库，分两步：\n",
    "git add <file>，注意，可反复多次使用，添加多个文件；\n",
    "git commit -m <message>，完成。\n",
    "git status  查看提交的状态\n",
    "git diff  可以查看修改内容。"
   ]
  },
  {
   "cell_type": "markdown",
   "metadata": {},
   "source": [
    "- 回退版本"
   ]
  },
  {
   "cell_type": "code",
   "execution_count": null,
   "metadata": {},
   "outputs": [],
   "source": [
    "git log  --pretty=oneline   查看历史版本号git log --graph --pretty=oneline --abbrev-commit\n",
    "\n",
    "git reset --hard commit_id  指向想要到的版本号commit_id=1255asdasd等\n",
    "\n",
    "要重返未来，用git reflog查看命令历史，以便确定要回到未来的哪个版本。"
   ]
  },
  {
   "cell_type": "markdown",
   "metadata": {},
   "source": [
    "- 撤销操作"
   ]
  },
  {
   "cell_type": "code",
   "execution_count": null,
   "metadata": {},
   "outputs": [],
   "source": [
    "未提交到缓存区\n",
    "git checkout -- readme.txt  把readme.txt文件在工作区的修改全部撤销。\n",
    "\n",
    "已经提交到缓存区了。\n",
    "git reset HEAD <file>   把缓存区的修改撤销掉。缓存区退回到工作区   \n",
    "git checkout -- readme.txt  撤销工作区的修改"
   ]
  },
  {
   "cell_type": "code",
   "execution_count": null,
   "metadata": {},
   "outputs": [],
   "source": [
    "checkout既可以切换分支，也可以撤销操作\n",
    "场景1：当你改乱了工作区某个文件的内容，想直接丢弃工作区的修改时，用命令git checkout -- file。\n",
    "\n",
    "场景2：当你不但改乱了工作区某个文件的内容，还添加到了暂存区时，想丢弃修改，分两步，第一步用命令git reset HEAD <file>，就回到了场景1，第二步按场景1操作。\n",
    "\n",
    "场景3：已经提交了不合适的修改到版本库时，想要撤销本次提交，参考版本回退一节，不过前提是没有推送到远程库。"
   ]
  },
  {
   "cell_type": "markdown",
   "metadata": {},
   "source": [
    "#### 添加远程库\n",
    "- 下载git \n",
    "- 设置ssh连接，码云与github类似"
   ]
  },
  {
   "cell_type": "code",
   "execution_count": null,
   "metadata": {},
   "outputs": [],
   "source": [
    "下载Git     PortableGit 免安装   \n",
    "打开  git-bash.exe   命令行 \n",
    "1.设置ssh公钥    ssh-keygen -t rsa -C \"xxxxx@xxxxx.com\"  \n",
    "2.cat ~/.ssh/id_rsa.pub   找到生成文件的目录  复制该文件内容  到 https://gitee.com/profile/sshkeys\n",
    "3.ssh -T git@gitee.com  （ssh -T git@github.com） 输入该命令，首次使用需要确认并添加主机到本机SSH可信列表。若返回 \n",
    "Hi XXX! You've successfully authenticated, but Gitee.com does not provide shell access. 内容，则证明添加成功。\n",
    "4.设置Git的用户名和邮箱  \n",
    "     命令： Git config --global user.name 'zzl'\n",
    "            Git config --global user.name '541260404@qq.com' \n",
    "可以查询下：Git config user.name   看看是否设置成功"
   ]
  },
  {
   "cell_type": "markdown",
   "metadata": {},
   "source": [
    "- 本地库上传到远程库中"
   ]
  },
  {
   "cell_type": "code",
   "execution_count": null,
   "metadata": {},
   "outputs": [],
   "source": [
    "git remote add origin git@github.com:LittleSix1/learngit.git   将远程仓库的地址git@github.com:LittleSix1/learngit.git =origin\n",
    "git push -u origin master     把本地的版本库上传  github上就有你本地的文件了 \n",
    "\n",
    "git add <file>\n",
    "git commit -m <message> \n",
    "git push origin master   把本地的版本库上传 一般大的修改或者有必要才push\n"
   ]
  },
  {
   "cell_type": "markdown",
   "metadata": {},
   "source": [
    "- 从远程库克隆到本地"
   ]
  },
  {
   "cell_type": "code",
   "execution_count": null,
   "metadata": {},
   "outputs": [],
   "source": [
    "git clone git@github.com:LittleSix1/MachineLearning.git  "
   ]
  },
  {
   "cell_type": "markdown",
   "metadata": {},
   "source": [
    "- 将远程的分支合并到本地"
   ]
  },
  {
   "cell_type": "code",
   "execution_count": null,
   "metadata": {},
   "outputs": [],
   "source": [
    "git merge origin/master  合并到当前分支。"
   ]
  },
  {
   "cell_type": "markdown",
   "metadata": {},
   "source": [
    "- 将远程的下载到本地"
   ]
  },
  {
   "cell_type": "code",
   "execution_count": null,
   "metadata": {},
   "outputs": [],
   "source": [
    " git fetch origin master"
   ]
  },
  {
   "cell_type": "markdown",
   "metadata": {},
   "source": [
    "#### 如何使用分支\n",
    "- 更多需要使用分支的用到再总结"
   ]
  },
  {
   "cell_type": "code",
   "execution_count": null,
   "metadata": {},
   "outputs": [],
   "source": [
    "查看分支：git branch\n",
    "\n",
    "创建分支：git branch <name>\n",
    "\n",
    "切换分支：git checkout <name>\n",
    "\n",
    "创建+切换分支：git checkout -b <name>\n",
    "\n",
    "合并某分支到当前分支：git merge <name>\n",
    "\n",
    "删除分支：git branch -d <name>\n",
    "\n",
    "\n",
    "git checkout -b feature  创建一个分支feature\n",
    "git checkout  master 切换到master分支\n",
    "git merge feature 合并分支\n",
    "git branch -d feature   删除分支"
   ]
  },
  {
   "cell_type": "markdown",
   "metadata": {},
   "source": [
    "#### 多人协作分支的情况"
   ]
  },
  {
   "cell_type": "code",
   "execution_count": null,
   "metadata": {},
   "outputs": [],
   "source": [
    "多人协作的工作模式通常是这样：\n",
    "\n",
    "首先，可以试图用git push origin <branch-name>推送自己的修改；\n",
    "\n",
    "如果推送失败，则因为远程分支比你的本地更新，需要先用git pull试图合并；\n",
    "\n",
    "如果合并有冲突，则解决冲突，并在本地提交；\n",
    "\n",
    "没有冲突或者解决掉冲突后，再用git push origin <branch-name>推送就能成功！\n",
    "\n",
    "如果git pull提示no tracking information，则说明本地分支和远程分支的链接关系没有创建，用命令git branch --set-upstream-to <branch-name> origin/<branch-name>。\n",
    "\n",
    "这就是多人协作的工作模式，一旦熟悉了，就非常简单。"
   ]
  },
  {
   "cell_type": "code",
   "execution_count": null,
   "metadata": {},
   "outputs": [],
   "source": [
    "你的小伙伴克隆了仓库，修改某分支代码，并修改\n",
    "git clone git@github.com:michaelliao/learngit.git\n",
    "    git branch\n",
    "    git checkout -b dev origin/dev\n",
    "    git add env.txt\n",
    "    git commit -m \"add env\"\n",
    "    git push origin dev\n",
    "\n",
    "    这时，你恰巧也修改了该分支文件，push时就会出问题    \n",
    "    cat env.txt\n",
    "    git add env.txt\n",
    "    git commit -m \"add new env\"\n",
    "    git push origin dev   提示你有冲突。\n",
    "    \n",
    "    这时你应该 pull\n",
    "    git pull 也失败了，原因是没有指定本地dev分支与远程origin/dev分支的链接，根据提示，设置dev和origin/dev的链接：\n",
    "    git branch --set-upstream-to=origin/dev dev  提示Branch 'dev' set up to track remote branch 'dev' from 'origin'.\n",
    "    \n",
    "    git pull 成功，但是合并有冲突，需要手动解决，解决的方法和分支管理中的解决冲突完全一样。自行查看解决冲突\n",
    "    git add env.txt\n",
    "    git commit -m \"fix env conflict\" 提交文件\n",
    "    git push origin dev     push分支，成功"
   ]
  },
  {
   "cell_type": "code",
   "execution_count": null,
   "metadata": {},
   "outputs": [],
   "source": [
    "查看远程库信息，使用git remote -v；\n",
    "\n",
    "本地新建的分支如果不推送到远程，对其他人就是不可见的；\n",
    "\n",
    "从本地推送分支，使用git push origin branch-name，如果推送失败，先用git pull抓取远程的新提交；\n",
    "\n",
    "在本地创建和远程分支对应的分支，使用git checkout -b branch-name origin/branch-name，本地和远程分支的名称最好一致；\n",
    "\n",
    "建立本地分支和远程分支的关联，使用git branch --set-upstream branch-name origin/branch-name；\n",
    "\n",
    "从远程抓取分支，使用git pull，如果有冲突，要先处理冲突。"
   ]
  },
  {
   "cell_type": "markdown",
   "metadata": {},
   "source": [
    "#### 解决冲突  的情况\n",
    "- Git无法自动合并时，必须解决冲突。再提交，合并完成。解决冲突就是把Git合并失败的文件手动编辑为我们希望的内容，再提交。git log --graph命令可以看到分支合并图。\n",
    "- 一般这里会出现冲突先解决冲突，再合并分支。这里并不是有两个文件，而是只有一个文件！，只要把该文件修改了就行了。最后删除小分支"
   ]
  },
  {
   "cell_type": "code",
   "execution_count": null,
   "metadata": {},
   "outputs": [],
   "source": [
    "git checkout -b feature1    创建新分支\n",
    "修改文件\n",
    "git add readme.txt       添加修改\n",
    "git commit -m \"AND simple\"   提交修改\n",
    "\n",
    "git checkout master  切换到主分支\n",
    "假如这里修改了文件\n",
    "git add readme.txt       添加修改\n",
    "git commit -m \"AND simple\"   提交修改\n",
    "\n",
    "git merge feature1    合并分支 ，这里会提示冲突。\n",
    "解决冲突\n",
    "git log --graph --pretty=oneline --abbrev-commit可以查看分支合并图\n",
    "git branch -d feature1   删除分支。over"
   ]
  }
 ],
 "metadata": {
  "kernelspec": {
   "display_name": "Python [conda env:Anaconda3]",
   "language": "python",
   "name": "conda-env-Anaconda3-py"
  },
  "language_info": {
   "codemirror_mode": {
    "name": "ipython",
    "version": 3
   },
   "file_extension": ".py",
   "mimetype": "text/x-python",
   "name": "python",
   "nbconvert_exporter": "python",
   "pygments_lexer": "ipython3",
   "version": "3.7.0"
  }
 },
 "nbformat": 4,
 "nbformat_minor": 2
}
